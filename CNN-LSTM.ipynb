{
 "cells": [
  {
   "metadata": {},
   "cell_type": "markdown",
   "source": [
    "## CNN-LSTM IoMT IDS\n",
    "### CSCI 6505 Group Project\n",
    "### Author: Hongwei Zhang & Koil Jat Chong\n",
    "### Enhancing Intrusion Detection in Healthcare IoMT Devices Using the CNN-LSTM Model"
   ],
   "id": "8f9f2b260b00d34"
  },
  {
   "cell_type": "code",
   "id": "initial_id",
   "metadata": {
    "collapsed": true,
    "ExecuteTime": {
     "end_time": "2024-11-13T21:02:28.073129Z",
     "start_time": "2024-11-13T21:02:28.066514Z"
    }
   },
   "source": [
    "import pandas as pd\n",
    "from sklearn.model_selection import train_test_split\n",
    "import torch\n",
    "from torch.utils.data import DataLoader, TensorDataset\n",
    "import torch.nn as nn\n",
    "import torch.nn.functional as F\n",
    "import torch.optim as optim\n",
    "import warnings\n",
    "warnings.simplefilter('ignore')\n",
    "import sys\n",
    "print(\"Python version:\", sys.version)\n",
    "print(\"Version info:\", sys.version_info)"
   ],
   "outputs": [
    {
     "name": "stdout",
     "output_type": "stream",
     "text": [
      "Python version: 3.10.11 (tags/v3.10.11:7d4cc5a, Apr  5 2023, 00:38:17) [MSC v.1929 64 bit (AMD64)]\n",
      "Version info: sys.version_info(major=3, minor=10, micro=11, releaselevel='final', serial=0)\n"
     ]
    }
   ],
   "execution_count": 26
  },
  {
   "metadata": {
    "ExecuteTime": {
     "end_time": "2024-11-13T20:29:57.899515Z",
     "start_time": "2024-11-13T20:29:57.640053Z"
    }
   },
   "cell_type": "code",
   "source": [
    "# Load the dataset\n",
    "data = pd.read_csv('./dataset/processed_data.csv')\n",
    "data.head()"
   ],
   "id": "8172e0c3ed0c6b85",
   "outputs": [
    {
     "data": {
      "text/plain": [
       "   Header_Length  Protocol Type  Duration      Rate     Srate  Drate  \\\n",
       "0       0.012399       0.482353  0.301176  0.000009  0.000009    0.0   \n",
       "1       0.005670       0.417647  0.217647  0.000003  0.000003    0.0   \n",
       "2       0.269644       1.000000  0.250980  0.000021  0.000021    0.0   \n",
       "3       0.806794       1.000000  0.250980  0.000192  0.000192    0.0   \n",
       "4       0.000011       0.352941  0.184314  0.000010  0.000010    0.0   \n",
       "\n",
       "   fin_flag_number  syn_flag_number  rst_flag_number  psh_flag_number  ...  \\\n",
       "0              0.0              0.0              0.0              0.5  ...   \n",
       "1              0.0              0.1              0.0              0.5  ...   \n",
       "2              0.0              0.0              0.0              0.0  ...   \n",
       "3              0.0              0.0              0.0              0.0  ...   \n",
       "4              0.0              1.0              0.0              0.0  ...   \n",
       "\n",
       "        Std  Tot size           IAT    Number  Magnitue    Radius  Covariance  \\\n",
       "0  0.465433  0.041508  9.999574e-01  0.925926  0.217273  0.466105    0.218837   \n",
       "1  0.223835  0.073505  3.288045e-10  0.333333  0.181740  0.223663    0.066195   \n",
       "2  0.187570  0.239402  3.395595e-11  0.333333  0.249725  0.187426    0.068553   \n",
       "3  0.643992  0.305027  9.996046e-01  0.925926  0.438889  0.644289    0.415955   \n",
       "4  0.148112  0.010870  9.996509e-01  0.925926  0.085875  0.148318    0.022161   \n",
       "\n",
       "   Variance    Weight  Target  \n",
       "0       1.0  1.000000       0  \n",
       "1       0.9  0.153941       4  \n",
       "2       0.9  0.153941       4  \n",
       "3       1.0  1.000000       5  \n",
       "4       1.0  1.000000       4  \n",
       "\n",
       "[5 rows x 46 columns]"
      ],
      "text/html": [
       "<div>\n",
       "<style scoped>\n",
       "    .dataframe tbody tr th:only-of-type {\n",
       "        vertical-align: middle;\n",
       "    }\n",
       "\n",
       "    .dataframe tbody tr th {\n",
       "        vertical-align: top;\n",
       "    }\n",
       "\n",
       "    .dataframe thead th {\n",
       "        text-align: right;\n",
       "    }\n",
       "</style>\n",
       "<table border=\"1\" class=\"dataframe\">\n",
       "  <thead>\n",
       "    <tr style=\"text-align: right;\">\n",
       "      <th></th>\n",
       "      <th>Header_Length</th>\n",
       "      <th>Protocol Type</th>\n",
       "      <th>Duration</th>\n",
       "      <th>Rate</th>\n",
       "      <th>Srate</th>\n",
       "      <th>Drate</th>\n",
       "      <th>fin_flag_number</th>\n",
       "      <th>syn_flag_number</th>\n",
       "      <th>rst_flag_number</th>\n",
       "      <th>psh_flag_number</th>\n",
       "      <th>...</th>\n",
       "      <th>Std</th>\n",
       "      <th>Tot size</th>\n",
       "      <th>IAT</th>\n",
       "      <th>Number</th>\n",
       "      <th>Magnitue</th>\n",
       "      <th>Radius</th>\n",
       "      <th>Covariance</th>\n",
       "      <th>Variance</th>\n",
       "      <th>Weight</th>\n",
       "      <th>Target</th>\n",
       "    </tr>\n",
       "  </thead>\n",
       "  <tbody>\n",
       "    <tr>\n",
       "      <th>0</th>\n",
       "      <td>0.012399</td>\n",
       "      <td>0.482353</td>\n",
       "      <td>0.301176</td>\n",
       "      <td>0.000009</td>\n",
       "      <td>0.000009</td>\n",
       "      <td>0.0</td>\n",
       "      <td>0.0</td>\n",
       "      <td>0.0</td>\n",
       "      <td>0.0</td>\n",
       "      <td>0.5</td>\n",
       "      <td>...</td>\n",
       "      <td>0.465433</td>\n",
       "      <td>0.041508</td>\n",
       "      <td>9.999574e-01</td>\n",
       "      <td>0.925926</td>\n",
       "      <td>0.217273</td>\n",
       "      <td>0.466105</td>\n",
       "      <td>0.218837</td>\n",
       "      <td>1.0</td>\n",
       "      <td>1.000000</td>\n",
       "      <td>0</td>\n",
       "    </tr>\n",
       "    <tr>\n",
       "      <th>1</th>\n",
       "      <td>0.005670</td>\n",
       "      <td>0.417647</td>\n",
       "      <td>0.217647</td>\n",
       "      <td>0.000003</td>\n",
       "      <td>0.000003</td>\n",
       "      <td>0.0</td>\n",
       "      <td>0.0</td>\n",
       "      <td>0.1</td>\n",
       "      <td>0.0</td>\n",
       "      <td>0.5</td>\n",
       "      <td>...</td>\n",
       "      <td>0.223835</td>\n",
       "      <td>0.073505</td>\n",
       "      <td>3.288045e-10</td>\n",
       "      <td>0.333333</td>\n",
       "      <td>0.181740</td>\n",
       "      <td>0.223663</td>\n",
       "      <td>0.066195</td>\n",
       "      <td>0.9</td>\n",
       "      <td>0.153941</td>\n",
       "      <td>4</td>\n",
       "    </tr>\n",
       "    <tr>\n",
       "      <th>2</th>\n",
       "      <td>0.269644</td>\n",
       "      <td>1.000000</td>\n",
       "      <td>0.250980</td>\n",
       "      <td>0.000021</td>\n",
       "      <td>0.000021</td>\n",
       "      <td>0.0</td>\n",
       "      <td>0.0</td>\n",
       "      <td>0.0</td>\n",
       "      <td>0.0</td>\n",
       "      <td>0.0</td>\n",
       "      <td>...</td>\n",
       "      <td>0.187570</td>\n",
       "      <td>0.239402</td>\n",
       "      <td>3.395595e-11</td>\n",
       "      <td>0.333333</td>\n",
       "      <td>0.249725</td>\n",
       "      <td>0.187426</td>\n",
       "      <td>0.068553</td>\n",
       "      <td>0.9</td>\n",
       "      <td>0.153941</td>\n",
       "      <td>4</td>\n",
       "    </tr>\n",
       "    <tr>\n",
       "      <th>3</th>\n",
       "      <td>0.806794</td>\n",
       "      <td>1.000000</td>\n",
       "      <td>0.250980</td>\n",
       "      <td>0.000192</td>\n",
       "      <td>0.000192</td>\n",
       "      <td>0.0</td>\n",
       "      <td>0.0</td>\n",
       "      <td>0.0</td>\n",
       "      <td>0.0</td>\n",
       "      <td>0.0</td>\n",
       "      <td>...</td>\n",
       "      <td>0.643992</td>\n",
       "      <td>0.305027</td>\n",
       "      <td>9.996046e-01</td>\n",
       "      <td>0.925926</td>\n",
       "      <td>0.438889</td>\n",
       "      <td>0.644289</td>\n",
       "      <td>0.415955</td>\n",
       "      <td>1.0</td>\n",
       "      <td>1.000000</td>\n",
       "      <td>5</td>\n",
       "    </tr>\n",
       "    <tr>\n",
       "      <th>4</th>\n",
       "      <td>0.000011</td>\n",
       "      <td>0.352941</td>\n",
       "      <td>0.184314</td>\n",
       "      <td>0.000010</td>\n",
       "      <td>0.000010</td>\n",
       "      <td>0.0</td>\n",
       "      <td>0.0</td>\n",
       "      <td>1.0</td>\n",
       "      <td>0.0</td>\n",
       "      <td>0.0</td>\n",
       "      <td>...</td>\n",
       "      <td>0.148112</td>\n",
       "      <td>0.010870</td>\n",
       "      <td>9.996509e-01</td>\n",
       "      <td>0.925926</td>\n",
       "      <td>0.085875</td>\n",
       "      <td>0.148318</td>\n",
       "      <td>0.022161</td>\n",
       "      <td>1.0</td>\n",
       "      <td>1.000000</td>\n",
       "      <td>4</td>\n",
       "    </tr>\n",
       "  </tbody>\n",
       "</table>\n",
       "<p>5 rows × 46 columns</p>\n",
       "</div>"
      ]
     },
     "execution_count": 5,
     "metadata": {},
     "output_type": "execute_result"
    }
   ],
   "execution_count": 5
  },
  {
   "metadata": {
    "ExecuteTime": {
     "end_time": "2024-11-13T20:50:27.734451Z",
     "start_time": "2024-11-13T20:50:27.711086Z"
    }
   },
   "cell_type": "code",
   "source": [
    "# Extract features and labels\n",
    "X = data.drop(columns=['Target']).values\n",
    "y = data['Target'].values\n",
    "print(f'X: {X.shape}, y: {y.shape}')"
   ],
   "id": "d4f13bb62e5582c3",
   "outputs": [
    {
     "name": "stdout",
     "output_type": "stream",
     "text": [
      "X: (96282, 45), y: (96282,)\n"
     ]
    }
   ],
   "execution_count": 23
  },
  {
   "metadata": {
    "ExecuteTime": {
     "end_time": "2024-11-13T20:36:10.880780Z",
     "start_time": "2024-11-13T20:36:10.810921Z"
    }
   },
   "cell_type": "code",
   "source": [
    "# Split the data into train, validation, and test sets\n",
    "# 70% training, 15% validation, 15% testing\n",
    "X_train, X_rest, y_train, y_rest = train_test_split(X, y, test_size=0.3, random_state=42)\n",
    "X_val, X_test, y_val, y_test = train_test_split(X_rest, y_rest, test_size=0.5, random_state=42)\n",
    "print('Train set:', X_train.shape, y_train.shape)\n",
    "print('Validation set:', X_val.shape, y_val.shape)\n",
    "print('Test set:', X_test.shape, y_test.shape)"
   ],
   "id": "972865da6c7b449b",
   "outputs": [
    {
     "name": "stdout",
     "output_type": "stream",
     "text": [
      "Train set: (67397, 45) (67397,)\n",
      "Validation set: (14442, 45) (14442,)\n",
      "Test set: (14443, 45) (14443,)\n"
     ]
    }
   ],
   "execution_count": 12
  },
  {
   "metadata": {
    "ExecuteTime": {
     "end_time": "2024-11-13T20:44:50.878443Z",
     "start_time": "2024-11-13T20:44:50.865295Z"
    }
   },
   "cell_type": "code",
   "source": [
    "# Convert to PyTorch tensors\n",
    "X_train = torch.tensor(X_train, dtype=torch.float32)\n",
    "y_train = torch.tensor(y_train, dtype=torch.int64)\n",
    "X_val = torch.tensor(X_val, dtype=torch.float32)\n",
    "y_val = torch.tensor(y_val, dtype=torch.int64)\n",
    "X_test = torch.tensor(X_test, dtype=torch.float32)\n",
    "y_test = torch.tensor(y_test, dtype=torch.int64)\n",
    "\n",
    "# Create data loaders\n",
    "batch_size = 32\n",
    "train_loader = DataLoader(TensorDataset(X_train, y_train), \n",
    "                          batch_size=batch_size, shuffle=True)\n",
    "val_loader = DataLoader(TensorDataset(X_val, y_val), batch_size=batch_size)\n",
    "test_loader = DataLoader(TensorDataset(X_test, y_test), batch_size=batch_size)"
   ],
   "id": "ffa906fdf448af86",
   "outputs": [],
   "execution_count": 20
  },
  {
   "metadata": {
    "ExecuteTime": {
     "end_time": "2024-11-13T21:26:32.717753Z",
     "start_time": "2024-11-13T21:26:32.709182Z"
    }
   },
   "cell_type": "code",
   "source": [
    "# Define the model\n",
    "class CNNLSTM(nn.Module):\n",
    "    def __init__(self):\n",
    "        super(CNNLSTM, self).__init__()\n",
    "        self.conv1 = nn.Conv1d(in_channels=1, out_channels=16, kernel_size=3, padding=1)\n",
    "        self.conv2 = nn.Conv1d(in_channels=16, out_channels=32, kernel_size=3, padding=1)\n",
    "        self.fc1 = nn.Linear(352, 64)\n",
    "        #self.fc1 = nn.Linear(32 * X_train.shape[1] // 4, 64)\n",
    "        self.fc2 = nn.Linear(64, 32)\n",
    "        self.fc3 = nn.Linear(32, 6)\n",
    "        \n",
    "    def forward(self, x):\n",
    "        x = x.unsqueeze(1)\n",
    "        x = F.relu(self.conv1(x))\n",
    "        x = F.max_pool1d(x, 2)\n",
    "        x = F.relu(self.conv2(x))\n",
    "        x = F.max_pool1d(x, 2)\n",
    "        x = x.view(x.size(0), -1)\n",
    "        x = F.relu(self.fc1(x))\n",
    "        x = F.relu(self.fc2(x))\n",
    "        x = self.fc3(x)\n",
    "        return x\n",
    "    \n",
    "print(CNNLSTM().to('cpu'))"
   ],
   "id": "3d119beb40fb88f3",
   "outputs": [
    {
     "name": "stdout",
     "output_type": "stream",
     "text": [
      "CNNLSTM(\n",
      "  (conv1): Conv1d(1, 16, kernel_size=(3,), stride=(1,), padding=(1,))\n",
      "  (conv2): Conv1d(16, 32, kernel_size=(3,), stride=(1,), padding=(1,))\n",
      "  (fc1): Linear(in_features=352, out_features=64, bias=True)\n",
      "  (fc2): Linear(in_features=64, out_features=32, bias=True)\n",
      "  (fc3): Linear(in_features=32, out_features=6, bias=True)\n",
      ")\n"
     ]
    }
   ],
   "execution_count": 38
  },
  {
   "metadata": {
    "ExecuteTime": {
     "end_time": "2024-11-13T21:26:37.020997Z",
     "start_time": "2024-11-13T21:26:37.006004Z"
    }
   },
   "cell_type": "code",
   "source": [
    "# Initialize the model, loss function, and optimizer\n",
    "model = CNNLSTM()\n",
    "criterion = nn.CrossEntropyLoss()\n",
    "optimizer = optim.Adam(model.parameters(), lr=0.001)"
   ],
   "id": "787da15610085d08",
   "outputs": [],
   "execution_count": 39
  },
  {
   "metadata": {
    "ExecuteTime": {
     "end_time": "2024-11-13T21:26:38.928176Z",
     "start_time": "2024-11-13T21:26:38.913177Z"
    }
   },
   "cell_type": "code",
   "source": [
    "# Training function\n",
    "def train(model, dataloader, criterion, optimizer):\n",
    "    model.train()\n",
    "    running_loss = 0.0\n",
    "    \n",
    "    for inputs, labels in dataloader:\n",
    "        optimizer.zero_grad()\n",
    "        outputs = model(inputs)\n",
    "        loss = criterion(outputs, labels)\n",
    "        loss.backward()\n",
    "        optimizer.step()\n",
    "        running_loss += loss.item() * inputs.size(0)\n",
    "        \n",
    "    return running_loss / len(dataloader.dataset)\n",
    "\n",
    "# Evaluation function\n",
    "def evaluate(model, dataloader, criterion):\n",
    "    model.eval()\n",
    "    running_loss = 0.0\n",
    "    correct = 0\n",
    "    \n",
    "    with torch.no_grad():\n",
    "        for inputs, labels in dataloader:\n",
    "            outputs = model(inputs)\n",
    "            loss = criterion(outputs, labels)\n",
    "            running_loss += loss.item() * inputs.size(0)\n",
    "            _, preds = torch.max(outputs, 1)\n",
    "            correct += (preds == labels).sum().item()\n",
    "            \n",
    "    return running_loss / len(dataloader.dataset), correct / len(dataloader.dataset)"
   ],
   "id": "6aac44cf614bc57d",
   "outputs": [],
   "execution_count": 40
  },
  {
   "metadata": {
    "ExecuteTime": {
     "end_time": "2024-11-13T21:27:57.256982Z",
     "start_time": "2024-11-13T21:26:41.673998Z"
    }
   },
   "cell_type": "code",
   "source": [
    "# Train and evaluate the model\n",
    "num_epochs = 10\n",
    "for epoch in range(num_epochs):\n",
    "    train_loss = train(model, train_loader, criterion, optimizer)\n",
    "    val_loss, val_acc = evaluate(model, val_loader, criterion)\n",
    "    print(f\"Epoch {epoch+1}/{num_epochs}: <Train Loss: {train_loss:.6f}, Val Loss: {val_loss:.6f}, Val Acc: {val_acc:.6f}>\")"
   ],
   "id": "e9768473b6539749",
   "outputs": [
    {
     "name": "stdout",
     "output_type": "stream",
     "text": [
      "Epoch 1/10: <Train Loss: 0.529603, Val Loss: 0.399585, Val Acc: 0.794142>\n",
      "Epoch 2/10: <Train Loss: 0.403844, Val Loss: 0.382815, Val Acc: 0.802590>\n",
      "Epoch 3/10: <Train Loss: 0.389734, Val Loss: 0.374422, Val Acc: 0.809168>\n",
      "Epoch 4/10: <Train Loss: 0.381261, Val Loss: 0.369282, Val Acc: 0.810760>\n",
      "Epoch 5/10: <Train Loss: 0.373945, Val Loss: 0.378682, Val Acc: 0.795665>\n",
      "Epoch 6/10: <Train Loss: 0.368756, Val Loss: 0.360664, Val Acc: 0.818238>\n",
      "Epoch 7/10: <Train Loss: 0.364300, Val Loss: 0.357936, Val Acc: 0.818792>\n",
      "Epoch 8/10: <Train Loss: 0.360251, Val Loss: 0.356715, Val Acc: 0.823570>\n",
      "Epoch 9/10: <Train Loss: 0.357135, Val Loss: 0.349318, Val Acc: 0.826409>\n",
      "Epoch 10/10: <Train Loss: 0.353905, Val Loss: 0.348352, Val Acc: 0.824955>\n"
     ]
    }
   ],
   "execution_count": 41
  },
  {
   "metadata": {
    "ExecuteTime": {
     "end_time": "2024-11-13T21:28:19.007240Z",
     "start_time": "2024-11-13T21:28:18.419022Z"
    }
   },
   "cell_type": "code",
   "source": [
    "# Evaluate on the test set\n",
    "test_loss, test_acc = evaluate(model, test_loader, criterion)\n",
    "print(f\"Test Loss: {test_loss:.4f}, Test Accuracy: {test_acc:.4f}\")"
   ],
   "id": "eb08091fba7e6dc5",
   "outputs": [
    {
     "name": "stdout",
     "output_type": "stream",
     "text": [
      "Test Loss: 0.3562, Test Accuracy: 0.8181\n"
     ]
    }
   ],
   "execution_count": 43
  },
  {
   "metadata": {},
   "cell_type": "code",
   "outputs": [],
   "execution_count": null,
   "source": "",
   "id": "b84ae4d382dd22a3"
  }
 ],
 "metadata": {
  "kernelspec": {
   "display_name": "Python 3",
   "language": "python",
   "name": "python3"
  },
  "language_info": {
   "codemirror_mode": {
    "name": "ipython",
    "version": 2
   },
   "file_extension": ".py",
   "mimetype": "text/x-python",
   "name": "python",
   "nbconvert_exporter": "python",
   "pygments_lexer": "ipython2",
   "version": "2.7.6"
  }
 },
 "nbformat": 4,
 "nbformat_minor": 5
}
