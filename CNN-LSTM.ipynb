{
 "cells": [
  {
   "metadata": {},
   "cell_type": "markdown",
   "source": [
    "## CNN-LSTM IoMT IDS\n",
    "### CSCI 6505 Group Project\n",
    "### Author: Hongwei Zhang & Koil Jat Chong\n",
    "### Enhancing Intrusion Detection in Healthcare IoMT Devices Using the CNN-LSTM Model"
   ],
   "id": "8f9f2b260b00d34"
  },
  {
   "cell_type": "code",
   "id": "initial_id",
   "metadata": {
    "collapsed": true,
    "ExecuteTime": {
     "end_time": "2024-11-14T21:11:20.844978Z",
     "start_time": "2024-11-14T21:11:20.825494Z"
    }
   },
   "source": [
    "import pandas as pd\n",
    "from sklearn.model_selection import train_test_split\n",
    "from sklearn.metrics import accuracy_score, precision_score, recall_score, f1_score\n",
    "import torch\n",
    "from torch.utils.data import DataLoader, TensorDataset\n",
    "import torch.nn as nn\n",
    "import torch.optim as optim\n",
    "import warnings\n",
    "warnings.simplefilter('ignore')\n",
    "import sys\n",
    "print(\"Python version:\", sys.version)\n",
    "print(\"Version info:\", sys.version_info)"
   ],
   "outputs": [
    {
     "name": "stdout",
     "output_type": "stream",
     "text": [
      "Python version: 3.10.11 (tags/v3.10.11:7d4cc5a, Apr  5 2023, 00:38:17) [MSC v.1929 64 bit (AMD64)]\n",
      "Version info: sys.version_info(major=3, minor=10, micro=11, releaselevel='final', serial=0)\n"
     ]
    }
   ],
   "execution_count": 51
  },
  {
   "metadata": {
    "ExecuteTime": {
     "end_time": "2024-11-14T21:11:21.085033Z",
     "start_time": "2024-11-14T21:11:20.860976Z"
    }
   },
   "cell_type": "code",
   "source": [
    "# Load the dataset\n",
    "data = pd.read_csv('./dataset/processed_data.csv')\n",
    "data.head()"
   ],
   "id": "8172e0c3ed0c6b85",
   "outputs": [
    {
     "data": {
      "text/plain": [
       "   Header_Length  Protocol Type  Duration      Rate     Srate  Drate  \\\n",
       "0       0.012399       0.482353  0.301176  0.000009  0.000009    0.0   \n",
       "1       0.005670       0.417647  0.217647  0.000003  0.000003    0.0   \n",
       "2       0.269644       1.000000  0.250980  0.000021  0.000021    0.0   \n",
       "3       0.806794       1.000000  0.250980  0.000192  0.000192    0.0   \n",
       "4       0.000011       0.352941  0.184314  0.000010  0.000010    0.0   \n",
       "\n",
       "   fin_flag_number  syn_flag_number  rst_flag_number  psh_flag_number  ...  \\\n",
       "0              0.0              0.0              0.0              0.5  ...   \n",
       "1              0.0              0.1              0.0              0.5  ...   \n",
       "2              0.0              0.0              0.0              0.0  ...   \n",
       "3              0.0              0.0              0.0              0.0  ...   \n",
       "4              0.0              1.0              0.0              0.0  ...   \n",
       "\n",
       "        Std  Tot size           IAT    Number  Magnitue    Radius  Covariance  \\\n",
       "0  0.465433  0.041508  9.999574e-01  0.925926  0.217273  0.466105    0.218837   \n",
       "1  0.223835  0.073505  3.288045e-10  0.333333  0.181740  0.223663    0.066195   \n",
       "2  0.187570  0.239402  3.395595e-11  0.333333  0.249725  0.187426    0.068553   \n",
       "3  0.643992  0.305027  9.996046e-01  0.925926  0.438889  0.644289    0.415955   \n",
       "4  0.148112  0.010870  9.996509e-01  0.925926  0.085875  0.148318    0.022161   \n",
       "\n",
       "   Variance    Weight  Target  \n",
       "0       1.0  1.000000       0  \n",
       "1       0.9  0.153941       4  \n",
       "2       0.9  0.153941       4  \n",
       "3       1.0  1.000000       5  \n",
       "4       1.0  1.000000       4  \n",
       "\n",
       "[5 rows x 46 columns]"
      ],
      "text/html": [
       "<div>\n",
       "<style scoped>\n",
       "    .dataframe tbody tr th:only-of-type {\n",
       "        vertical-align: middle;\n",
       "    }\n",
       "\n",
       "    .dataframe tbody tr th {\n",
       "        vertical-align: top;\n",
       "    }\n",
       "\n",
       "    .dataframe thead th {\n",
       "        text-align: right;\n",
       "    }\n",
       "</style>\n",
       "<table border=\"1\" class=\"dataframe\">\n",
       "  <thead>\n",
       "    <tr style=\"text-align: right;\">\n",
       "      <th></th>\n",
       "      <th>Header_Length</th>\n",
       "      <th>Protocol Type</th>\n",
       "      <th>Duration</th>\n",
       "      <th>Rate</th>\n",
       "      <th>Srate</th>\n",
       "      <th>Drate</th>\n",
       "      <th>fin_flag_number</th>\n",
       "      <th>syn_flag_number</th>\n",
       "      <th>rst_flag_number</th>\n",
       "      <th>psh_flag_number</th>\n",
       "      <th>...</th>\n",
       "      <th>Std</th>\n",
       "      <th>Tot size</th>\n",
       "      <th>IAT</th>\n",
       "      <th>Number</th>\n",
       "      <th>Magnitue</th>\n",
       "      <th>Radius</th>\n",
       "      <th>Covariance</th>\n",
       "      <th>Variance</th>\n",
       "      <th>Weight</th>\n",
       "      <th>Target</th>\n",
       "    </tr>\n",
       "  </thead>\n",
       "  <tbody>\n",
       "    <tr>\n",
       "      <th>0</th>\n",
       "      <td>0.012399</td>\n",
       "      <td>0.482353</td>\n",
       "      <td>0.301176</td>\n",
       "      <td>0.000009</td>\n",
       "      <td>0.000009</td>\n",
       "      <td>0.0</td>\n",
       "      <td>0.0</td>\n",
       "      <td>0.0</td>\n",
       "      <td>0.0</td>\n",
       "      <td>0.5</td>\n",
       "      <td>...</td>\n",
       "      <td>0.465433</td>\n",
       "      <td>0.041508</td>\n",
       "      <td>9.999574e-01</td>\n",
       "      <td>0.925926</td>\n",
       "      <td>0.217273</td>\n",
       "      <td>0.466105</td>\n",
       "      <td>0.218837</td>\n",
       "      <td>1.0</td>\n",
       "      <td>1.000000</td>\n",
       "      <td>0</td>\n",
       "    </tr>\n",
       "    <tr>\n",
       "      <th>1</th>\n",
       "      <td>0.005670</td>\n",
       "      <td>0.417647</td>\n",
       "      <td>0.217647</td>\n",
       "      <td>0.000003</td>\n",
       "      <td>0.000003</td>\n",
       "      <td>0.0</td>\n",
       "      <td>0.0</td>\n",
       "      <td>0.1</td>\n",
       "      <td>0.0</td>\n",
       "      <td>0.5</td>\n",
       "      <td>...</td>\n",
       "      <td>0.223835</td>\n",
       "      <td>0.073505</td>\n",
       "      <td>3.288045e-10</td>\n",
       "      <td>0.333333</td>\n",
       "      <td>0.181740</td>\n",
       "      <td>0.223663</td>\n",
       "      <td>0.066195</td>\n",
       "      <td>0.9</td>\n",
       "      <td>0.153941</td>\n",
       "      <td>4</td>\n",
       "    </tr>\n",
       "    <tr>\n",
       "      <th>2</th>\n",
       "      <td>0.269644</td>\n",
       "      <td>1.000000</td>\n",
       "      <td>0.250980</td>\n",
       "      <td>0.000021</td>\n",
       "      <td>0.000021</td>\n",
       "      <td>0.0</td>\n",
       "      <td>0.0</td>\n",
       "      <td>0.0</td>\n",
       "      <td>0.0</td>\n",
       "      <td>0.0</td>\n",
       "      <td>...</td>\n",
       "      <td>0.187570</td>\n",
       "      <td>0.239402</td>\n",
       "      <td>3.395595e-11</td>\n",
       "      <td>0.333333</td>\n",
       "      <td>0.249725</td>\n",
       "      <td>0.187426</td>\n",
       "      <td>0.068553</td>\n",
       "      <td>0.9</td>\n",
       "      <td>0.153941</td>\n",
       "      <td>4</td>\n",
       "    </tr>\n",
       "    <tr>\n",
       "      <th>3</th>\n",
       "      <td>0.806794</td>\n",
       "      <td>1.000000</td>\n",
       "      <td>0.250980</td>\n",
       "      <td>0.000192</td>\n",
       "      <td>0.000192</td>\n",
       "      <td>0.0</td>\n",
       "      <td>0.0</td>\n",
       "      <td>0.0</td>\n",
       "      <td>0.0</td>\n",
       "      <td>0.0</td>\n",
       "      <td>...</td>\n",
       "      <td>0.643992</td>\n",
       "      <td>0.305027</td>\n",
       "      <td>9.996046e-01</td>\n",
       "      <td>0.925926</td>\n",
       "      <td>0.438889</td>\n",
       "      <td>0.644289</td>\n",
       "      <td>0.415955</td>\n",
       "      <td>1.0</td>\n",
       "      <td>1.000000</td>\n",
       "      <td>5</td>\n",
       "    </tr>\n",
       "    <tr>\n",
       "      <th>4</th>\n",
       "      <td>0.000011</td>\n",
       "      <td>0.352941</td>\n",
       "      <td>0.184314</td>\n",
       "      <td>0.000010</td>\n",
       "      <td>0.000010</td>\n",
       "      <td>0.0</td>\n",
       "      <td>0.0</td>\n",
       "      <td>1.0</td>\n",
       "      <td>0.0</td>\n",
       "      <td>0.0</td>\n",
       "      <td>...</td>\n",
       "      <td>0.148112</td>\n",
       "      <td>0.010870</td>\n",
       "      <td>9.996509e-01</td>\n",
       "      <td>0.925926</td>\n",
       "      <td>0.085875</td>\n",
       "      <td>0.148318</td>\n",
       "      <td>0.022161</td>\n",
       "      <td>1.0</td>\n",
       "      <td>1.000000</td>\n",
       "      <td>4</td>\n",
       "    </tr>\n",
       "  </tbody>\n",
       "</table>\n",
       "<p>5 rows × 46 columns</p>\n",
       "</div>"
      ]
     },
     "execution_count": 52,
     "metadata": {},
     "output_type": "execute_result"
    }
   ],
   "execution_count": 52
  },
  {
   "metadata": {
    "ExecuteTime": {
     "end_time": "2024-11-14T21:11:21.178087Z",
     "start_time": "2024-11-14T21:11:21.148210Z"
    }
   },
   "cell_type": "code",
   "source": [
    "# Extract features and labels\n",
    "X = data.drop(columns=['Target']).values\n",
    "y = data['Target'].values\n",
    "print(f'X: {X.shape}, y: {y.shape}')"
   ],
   "id": "d4f13bb62e5582c3",
   "outputs": [
    {
     "name": "stdout",
     "output_type": "stream",
     "text": [
      "X: (96282, 45), y: (96282,)\n"
     ]
    }
   ],
   "execution_count": 53
  },
  {
   "metadata": {
    "ExecuteTime": {
     "end_time": "2024-11-14T21:11:21.285676Z",
     "start_time": "2024-11-14T21:11:21.224679Z"
    }
   },
   "cell_type": "code",
   "source": [
    "# Split the data into train, validation, and test sets\n",
    "# 70% training, 15% validation, 15% testing\n",
    "X_train, X_rest, y_train, y_rest = train_test_split(X, y, test_size=0.3, random_state=42)\n",
    "X_val, X_test, y_val, y_test = train_test_split(X_rest, y_rest, test_size=0.5, random_state=42)\n",
    "print('Train set:', X_train.shape, y_train.shape)\n",
    "print('Validation set:', X_val.shape, y_val.shape)\n",
    "print('Test set:', X_test.shape, y_test.shape)"
   ],
   "id": "972865da6c7b449b",
   "outputs": [
    {
     "name": "stdout",
     "output_type": "stream",
     "text": [
      "Train set: (67397, 45) (67397,)\n",
      "Validation set: (14442, 45) (14442,)\n",
      "Test set: (14443, 45) (14443,)\n"
     ]
    }
   ],
   "execution_count": 54
  },
  {
   "metadata": {
    "ExecuteTime": {
     "end_time": "2024-11-14T21:11:21.409756Z",
     "start_time": "2024-11-14T21:11:21.395736Z"
    }
   },
   "cell_type": "code",
   "source": [
    "# Convert to PyTorch tensors\n",
    "X_train = torch.tensor(X_train, dtype=torch.float32)\n",
    "y_train = torch.tensor(y_train, dtype=torch.int64)\n",
    "X_val = torch.tensor(X_val, dtype=torch.float32)\n",
    "y_val = torch.tensor(y_val, dtype=torch.int64)\n",
    "X_test = torch.tensor(X_test, dtype=torch.float32)\n",
    "y_test = torch.tensor(y_test, dtype=torch.int64)\n",
    "\n",
    "# Create data loaders\n",
    "batch_size = 32\n",
    "train_loader = DataLoader(TensorDataset(X_train, y_train), \n",
    "                          batch_size=batch_size, shuffle=True)\n",
    "val_loader = DataLoader(TensorDataset(X_val, y_val), batch_size=batch_size)\n",
    "test_loader = DataLoader(TensorDataset(X_test, y_test), batch_size=batch_size)"
   ],
   "id": "ffa906fdf448af86",
   "outputs": [],
   "execution_count": 55
  },
  {
   "metadata": {
    "ExecuteTime": {
     "end_time": "2024-11-14T21:11:21.425710Z",
     "start_time": "2024-11-14T21:11:21.412968Z"
    }
   },
   "cell_type": "code",
   "source": [
    "# Define the model\n",
    "class CNN_LSTM_Model(nn.Module):\n",
    "    def __init__(self, input_size, hidden_size, num_layers, num_classes):\n",
    "        super(CNN_LSTM_Model, self).__init__()\n",
    "        \n",
    "        # CNN layer for extracting spatial features\n",
    "        self.cnn = nn.Sequential(\n",
    "            nn.Conv1d(in_channels=input_size, out_channels=32, \n",
    "                      kernel_size=3, stride=1, padding=1),\n",
    "            nn.ReLU(),\n",
    "            nn.MaxPool1d(kernel_size=2, stride=2),\n",
    "            nn.Conv1d(in_channels=32, out_channels=64, \n",
    "                      kernel_size=3, stride=1, padding=1),\n",
    "            nn.ReLU(),\n",
    "            nn.MaxPool1d(kernel_size=2, stride=2)\n",
    "        )\n",
    "        \n",
    "        # LSTM layer for extracting temporal features\n",
    "        self.lstm = nn.LSTM(\n",
    "            input_size=64, \n",
    "            hidden_size=hidden_size, \n",
    "            num_layers=num_layers, \n",
    "            batch_first=True)\n",
    "        \n",
    "        # Fully connected layer\n",
    "        self.fc = nn.Linear(hidden_size, num_classes)\n",
    "    \n",
    "    def forward(self, x):\n",
    "        if x.dim() == 2:\n",
    "            x = x.unsqueeze(2)\n",
    "        x = x.permute(0, 2, 1)\n",
    "        out = self.cnn(x)\n",
    "        out = out.permute(0, 2, 1)\n",
    "        out, _ = self.lstm(out)\n",
    "        out = self.fc(out[:, -1, :])\n",
    "        return out"
   ],
   "id": "3d119beb40fb88f3",
   "outputs": [],
   "execution_count": 56
  },
  {
   "metadata": {
    "ExecuteTime": {
     "end_time": "2024-11-14T21:11:21.471927Z",
     "start_time": "2024-11-14T21:11:21.457916Z"
    }
   },
   "cell_type": "code",
   "source": [
    "# Initialize the model, loss function, and optimizer\n",
    "input_size = 1\n",
    "hidden_size = 128\n",
    "num_layers = 1\n",
    "num_classes = 6\n",
    "\n",
    "model = CNN_LSTM_Model(input_size, hidden_size, num_layers, num_classes)\n",
    "print(model.to('cpu'))\n",
    "\n",
    "criterion = nn.CrossEntropyLoss()\n",
    "optimizer = optim.Adam(model.parameters(), lr=0.001)"
   ],
   "id": "bab0e6728013dbcc",
   "outputs": [
    {
     "name": "stdout",
     "output_type": "stream",
     "text": [
      "CNN_LSTM_Model(\n",
      "  (cnn): Sequential(\n",
      "    (0): Conv1d(1, 32, kernel_size=(3,), stride=(1,), padding=(1,))\n",
      "    (1): ReLU()\n",
      "    (2): MaxPool1d(kernel_size=2, stride=2, padding=0, dilation=1, ceil_mode=False)\n",
      "    (3): Conv1d(32, 64, kernel_size=(3,), stride=(1,), padding=(1,))\n",
      "    (4): ReLU()\n",
      "    (5): MaxPool1d(kernel_size=2, stride=2, padding=0, dilation=1, ceil_mode=False)\n",
      "  )\n",
      "  (lstm): LSTM(64, 128, batch_first=True)\n",
      "  (fc): Linear(in_features=128, out_features=6, bias=True)\n",
      ")\n"
     ]
    }
   ],
   "execution_count": 57
  },
  {
   "metadata": {
    "ExecuteTime": {
     "end_time": "2024-11-14T21:11:21.519117Z",
     "start_time": "2024-11-14T21:11:21.504627Z"
    }
   },
   "cell_type": "code",
   "source": [
    "# Training function\n",
    "def train(model, dataloader, criterion, optimizer):\n",
    "    model.train()\n",
    "    running_loss = 0.0\n",
    "    \n",
    "    for inputs, labels in dataloader:\n",
    "        optimizer.zero_grad()\n",
    "        outputs = model(inputs)\n",
    "        loss = criterion(outputs, labels)\n",
    "        loss.backward()\n",
    "        optimizer.step()\n",
    "        running_loss += loss.item() * inputs.size(0)\n",
    "        \n",
    "    return running_loss / len(dataloader.dataset)\n",
    "\n",
    "# Evaluation function\n",
    "def evaluate(model, dataloader, criterion):\n",
    "    model.eval()\n",
    "    running_loss = 0.0\n",
    "    correct = 0\n",
    "    all_preds = []\n",
    "    all_labels = []\n",
    "    \n",
    "    with torch.no_grad():\n",
    "        for inputs, labels in dataloader:\n",
    "            outputs = model(inputs)\n",
    "            loss = criterion(outputs, labels)\n",
    "            running_loss += loss.item() * inputs.size(0)\n",
    "            _, preds = torch.max(outputs, 1)\n",
    "            correct += (preds == labels).sum().item()\n",
    "            all_preds.extend(preds.cpu().numpy())\n",
    "            all_labels.extend(labels.cpu().numpy())\n",
    "    \n",
    "    # Compute additional metrics\n",
    "    accuracy = correct / len(dataloader.dataset)\n",
    "    precision = precision_score(all_labels, all_preds, average='macro')\n",
    "    recall = recall_score(all_labels, all_preds, average='macro')\n",
    "    f1 = f1_score(all_labels, all_preds, average='macro')\n",
    "    \n",
    "    return running_loss / len(dataloader.dataset), accuracy, precision, recall, f1"
   ],
   "id": "6aac44cf614bc57d",
   "outputs": [],
   "execution_count": 58
  },
  {
   "metadata": {
    "ExecuteTime": {
     "end_time": "2024-11-14T21:16:45.342002Z",
     "start_time": "2024-11-14T21:14:01.685546Z"
    }
   },
   "cell_type": "code",
   "source": [
    "# Train and evaluate the model\n",
    "num_epochs = 10\n",
    "for epoch in range(num_epochs):\n",
    "    train_loss = train(model, train_loader, criterion, optimizer)\n",
    "    val_loss, val_acc, val_prec, val_rec, val_f1 = evaluate(model, val_loader, criterion)\n",
    "    print(f\"Epoch {epoch+1}/{num_epochs}: <Train Loss: {train_loss:.6f}, Val Loss: {val_loss:.6f}, Val Acc: {val_acc:.6f}, Val Prec: {val_prec:.6f}, Val Rec: {val_rec:.6f}, Val F1: {val_f1:.6f}>\")"
   ],
   "id": "e9768473b6539749",
   "outputs": [
    {
     "name": "stdout",
     "output_type": "stream",
     "text": [
      "Epoch 1/10: <Train Loss: 0.409707, Val Loss: 0.441379, Val Acc: 0.763883, Val Prec: 0.797294, Val Rec: 0.760644, Val F1: 0.749210>\n",
      "Epoch 2/10: <Train Loss: 0.395351, Val Loss: 0.377525, Val Acc: 0.813391, Val Prec: 0.822776, Val Rec: 0.811980, Val F1: 0.810330>\n",
      "Epoch 3/10: <Train Loss: 0.382596, Val Loss: 0.376136, Val Acc: 0.812422, Val Prec: 0.824973, Val Rec: 0.810746, Val F1: 0.808783>\n",
      "Epoch 4/10: <Train Loss: 0.374101, Val Loss: 0.365507, Val Acc: 0.816784, Val Prec: 0.828722, Val Rec: 0.815195, Val F1: 0.814065>\n",
      "Epoch 5/10: <Train Loss: 0.366084, Val Loss: 0.357705, Val Acc: 0.822047, Val Prec: 0.830503, Val Rec: 0.820733, Val F1: 0.818555>\n",
      "Epoch 6/10: <Train Loss: 0.361370, Val Loss: 0.359021, Val Acc: 0.812007, Val Prec: 0.816208, Val Rec: 0.811615, Val F1: 0.812327>\n",
      "Epoch 7/10: <Train Loss: 0.356680, Val Loss: 0.353997, Val Acc: 0.822878, Val Prec: 0.830531, Val Rec: 0.821673, Val F1: 0.822159>\n",
      "Epoch 8/10: <Train Loss: 0.353168, Val Loss: 0.355097, Val Acc: 0.824401, Val Prec: 0.831835, Val Rec: 0.823240, Val F1: 0.823588>\n",
      "Epoch 9/10: <Train Loss: 0.350653, Val Loss: 0.344948, Val Acc: 0.826201, Val Prec: 0.830753, Val Rec: 0.825295, Val F1: 0.824881>\n",
      "Epoch 10/10: <Train Loss: 0.348271, Val Loss: 0.349664, Val Acc: 0.824193, Val Prec: 0.830935, Val Rec: 0.823033, Val F1: 0.820856>\n"
     ]
    }
   ],
   "execution_count": 60
  },
  {
   "metadata": {
    "ExecuteTime": {
     "end_time": "2024-11-14T21:16:46.355478Z",
     "start_time": "2024-11-14T21:16:45.348Z"
    }
   },
   "cell_type": "code",
   "source": [
    "# Evaluate on the test set\n",
    "loss, accuracy, precision, recall, f1 = evaluate(model, test_loader, criterion)\n",
    "print(f'Test Loss: {loss:.6f}'\n",
    "      f'\\nAccuracy: {accuracy:.6f}'\n",
    "      f'\\nPrecision: {precision:.6f}'\n",
    "      f'\\nRecall: {recall:.6f}'\n",
    "      f'\\nF1-score: {f1:.6f}')"
   ],
   "id": "eb08091fba7e6dc5",
   "outputs": [
    {
     "name": "stdout",
     "output_type": "stream",
     "text": [
      "Test Loss: 0.356524\n",
      "Accuracy: 0.817143\n",
      "Precision: 0.824726\n",
      "Recall: 0.816282\n",
      "F1-score: 0.813118\n"
     ]
    }
   ],
   "execution_count": 61
  }
 ],
 "metadata": {
  "kernelspec": {
   "display_name": "Python 3",
   "language": "python",
   "name": "python3"
  },
  "language_info": {
   "codemirror_mode": {
    "name": "ipython",
    "version": 2
   },
   "file_extension": ".py",
   "mimetype": "text/x-python",
   "name": "python",
   "nbconvert_exporter": "python",
   "pygments_lexer": "ipython2",
   "version": "2.7.6"
  }
 },
 "nbformat": 4,
 "nbformat_minor": 5
}
